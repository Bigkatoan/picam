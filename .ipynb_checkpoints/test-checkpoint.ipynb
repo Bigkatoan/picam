{
 "cells": [
  {
   "cell_type": "code",
   "execution_count": 1,
   "id": "38054438-9623-4104-b2dd-9417b2d30681",
   "metadata": {},
   "outputs": [],
   "source": [
    "import cv2\n",
    "from picamera2 import Picamera2\n",
    "import time\n",
    "import matplotlib.pyplot as plt\n",
    "from IPython.display import clear_output"
   ]
  },
  {
   "cell_type": "code",
   "execution_count": null,
   "id": "f5e82aea-9888-48ee-869a-6dd234c73506",
   "metadata": {},
   "outputs": [],
   "source": [
    "# 1. Khởi tạo và cấu hình camera\n",
    "picam2 = Picamera2()\n",
    "# Cấu hình camera để xem trước, kích thước 640x480\n",
    "# Định dạng \"main\" sẽ là luồng chính để lấy khung hình cho OpenCV\n",
    "config = picam2.create_preview_configuration(main={\"size\": (640, 480)})\n",
    "picam2.configure(config)\n",
    "\n",
    "# Bắt đầu chạy camera\n",
    "picam2.start()\n",
    "\n",
    "# Thêm một chút thời gian chờ để camera ổn định\n",
    "time.sleep(1)"
   ]
  },
  {
   "cell_type": "code",
   "execution_count": null,
   "id": "97eda71a-acc2-41ec-abd4-2cb9e634d270",
   "metadata": {},
   "outputs": [],
   "source": [
    "# 2. Vòng lặp để xử lý video thời gian thực\n",
    "# ctrl + c để thoát\n",
    "try:\n",
    "    while True:\n",
    "        # Lấy khung hình từ camera dưới dạng mảng NumPy (định dạng BGR mặc định của OpenCV)\n",
    "        frame = picam2.capture_array()\n",
    "        # Hiển thị khung hình gốc trong một cửa sổ\n",
    "        clear_output(wait=True)\n",
    "        plt.imshow(frame)\n",
    "        plt.show()\n",
    "\n",
    "except:\n",
    "    # 3. Dọn dẹp tài nguyên\n",
    "    print(\"Dừng chương trình...\")\n",
    "    cv2.destroyAllWindows()\n",
    "    picam2.stop()"
   ]
  }
 ],
 "metadata": {
  "kernelspec": {
   "display_name": "Python 3 (ipykernel)",
   "language": "python",
   "name": "python3"
  },
  "language_info": {
   "codemirror_mode": {
    "name": "ipython",
    "version": 3
   },
   "file_extension": ".py",
   "mimetype": "text/x-python",
   "name": "python",
   "nbconvert_exporter": "python",
   "pygments_lexer": "ipython3",
   "version": "3.11.2"
  }
 },
 "nbformat": 4,
 "nbformat_minor": 5
}
